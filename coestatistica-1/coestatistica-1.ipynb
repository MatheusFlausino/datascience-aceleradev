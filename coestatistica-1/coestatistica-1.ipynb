{
 "cells": [
  {
   "cell_type": "code",
   "execution_count": 14,
   "metadata": {},
   "outputs": [],
   "source": [
    "#Adicionando os imports\n",
    "\n",
    "import pandas as pd\n",
    "import numpy as np"
   ]
  },
  {
   "cell_type": "code",
   "execution_count": 15,
   "metadata": {},
   "outputs": [],
   "source": [
    "#Leitura do arquivo\n",
    "\n",
    "dados = pd.read_csv(\"desafio1.csv\")"
   ]
  },
  {
   "cell_type": "code",
   "execution_count": 16,
   "metadata": {},
   "outputs": [
    {
     "output_type": "execute_result",
     "data": {
      "text/plain": "   RowNumber                                        id  \\\n0          1  e7f44fcbd380d4cef7e6c232cc7e37895c3fd197   \n1          2  28dcb083ad90512da16b9430085c2cddb8ca5e12   \n2          3  774bc378f787438c9c7594e536787d07a097a54b   \n3          4  043a71326f7096de155e7f0c559dc62b5e4b7239   \n4          5  37b3bb8ca243955fb3605ec7e1c2a4607cdb3b22   \n5          6  db5cf32c3fbc7c5d8f8313afca1d099de6dc055f   \n6          7  8f3cc64a0a84bab38fefb030f09757d0cbf03bb2   \n7          8  6704b822c203e2dda9f225dfc4f1bed2ae9044e6   \n8          9  35f41954a87f722a3960e5fa8ce898a09398a564   \n9         10  f110be36fc6171a7da472b9cbac8698df880aac6   \n\n                                  sobrenome  pontuacao_credito  \\\n0  6d6e0aa1b9b413e442e2fb68df14b4fc3f91de50                619   \n1  48e1ad846796fa314f1b4a6702b83343eb5482c5                608   \n2  f2b29d5d934de615812b697132e767dea0f1e9e2                502   \n3  85d5c9da7cddd8109ad32a6c348fe2bb10bf99f2                699   \n4  ddc89c837a6933639de75f28171057060bd322df                850   \n5  a596384ca70664af4c5fac9f935cff186b8e8bc0                645   \n6  abec3e525ab40e45975c91d4fa2bc7b318d93de4                822   \n7  336b42483e6a17f48eb040a251b5d6e64d1351a9                376   \n8  53a417796c777851003b3f2431e8eef5625ec15b                501   \n9  b89d09fc7719cb3c4a87e4a61cb87b3465e9d8ff                684   \n\n  estado_residencia genero  idade  nivel_estabilidade  saldo_conta  \\\n0                SC      F     42                   2         0.00   \n1                RS      F     41                   1     83807.86   \n2                SC      F     42                   8    159660.80   \n3                SC      F     39                   1         0.00   \n4                RS      F     43                   2    125510.82   \n5                RS      M     44                   8    113755.78   \n6                SC      M     50                   7         0.00   \n7                PR      F     29                   4    115046.74   \n8                SC      M     44                   4    142051.07   \n9                SC      M     27                   2    134603.88   \n\n   numero_produtos  possui_cartao_de_credito  membro_ativo  \n0                1                         1             1  \n1                1                         0             1  \n2                3                         1             0  \n3                2                         0             0  \n4                1                         1             1  \n5                2                         1             0  \n6                2                         1             1  \n7                4                         1             0  \n8                2                         0             1  \n9                1                         1             1  ",
      "text/html": "<div>\n<style scoped>\n    .dataframe tbody tr th:only-of-type {\n        vertical-align: middle;\n    }\n\n    .dataframe tbody tr th {\n        vertical-align: top;\n    }\n\n    .dataframe thead th {\n        text-align: right;\n    }\n</style>\n<table border=\"1\" class=\"dataframe\">\n  <thead>\n    <tr style=\"text-align: right;\">\n      <th></th>\n      <th>RowNumber</th>\n      <th>id</th>\n      <th>sobrenome</th>\n      <th>pontuacao_credito</th>\n      <th>estado_residencia</th>\n      <th>genero</th>\n      <th>idade</th>\n      <th>nivel_estabilidade</th>\n      <th>saldo_conta</th>\n      <th>numero_produtos</th>\n      <th>possui_cartao_de_credito</th>\n      <th>membro_ativo</th>\n    </tr>\n  </thead>\n  <tbody>\n    <tr>\n      <th>0</th>\n      <td>1</td>\n      <td>e7f44fcbd380d4cef7e6c232cc7e37895c3fd197</td>\n      <td>6d6e0aa1b9b413e442e2fb68df14b4fc3f91de50</td>\n      <td>619</td>\n      <td>SC</td>\n      <td>F</td>\n      <td>42</td>\n      <td>2</td>\n      <td>0.00</td>\n      <td>1</td>\n      <td>1</td>\n      <td>1</td>\n    </tr>\n    <tr>\n      <th>1</th>\n      <td>2</td>\n      <td>28dcb083ad90512da16b9430085c2cddb8ca5e12</td>\n      <td>48e1ad846796fa314f1b4a6702b83343eb5482c5</td>\n      <td>608</td>\n      <td>RS</td>\n      <td>F</td>\n      <td>41</td>\n      <td>1</td>\n      <td>83807.86</td>\n      <td>1</td>\n      <td>0</td>\n      <td>1</td>\n    </tr>\n    <tr>\n      <th>2</th>\n      <td>3</td>\n      <td>774bc378f787438c9c7594e536787d07a097a54b</td>\n      <td>f2b29d5d934de615812b697132e767dea0f1e9e2</td>\n      <td>502</td>\n      <td>SC</td>\n      <td>F</td>\n      <td>42</td>\n      <td>8</td>\n      <td>159660.80</td>\n      <td>3</td>\n      <td>1</td>\n      <td>0</td>\n    </tr>\n    <tr>\n      <th>3</th>\n      <td>4</td>\n      <td>043a71326f7096de155e7f0c559dc62b5e4b7239</td>\n      <td>85d5c9da7cddd8109ad32a6c348fe2bb10bf99f2</td>\n      <td>699</td>\n      <td>SC</td>\n      <td>F</td>\n      <td>39</td>\n      <td>1</td>\n      <td>0.00</td>\n      <td>2</td>\n      <td>0</td>\n      <td>0</td>\n    </tr>\n    <tr>\n      <th>4</th>\n      <td>5</td>\n      <td>37b3bb8ca243955fb3605ec7e1c2a4607cdb3b22</td>\n      <td>ddc89c837a6933639de75f28171057060bd322df</td>\n      <td>850</td>\n      <td>RS</td>\n      <td>F</td>\n      <td>43</td>\n      <td>2</td>\n      <td>125510.82</td>\n      <td>1</td>\n      <td>1</td>\n      <td>1</td>\n    </tr>\n    <tr>\n      <th>5</th>\n      <td>6</td>\n      <td>db5cf32c3fbc7c5d8f8313afca1d099de6dc055f</td>\n      <td>a596384ca70664af4c5fac9f935cff186b8e8bc0</td>\n      <td>645</td>\n      <td>RS</td>\n      <td>M</td>\n      <td>44</td>\n      <td>8</td>\n      <td>113755.78</td>\n      <td>2</td>\n      <td>1</td>\n      <td>0</td>\n    </tr>\n    <tr>\n      <th>6</th>\n      <td>7</td>\n      <td>8f3cc64a0a84bab38fefb030f09757d0cbf03bb2</td>\n      <td>abec3e525ab40e45975c91d4fa2bc7b318d93de4</td>\n      <td>822</td>\n      <td>SC</td>\n      <td>M</td>\n      <td>50</td>\n      <td>7</td>\n      <td>0.00</td>\n      <td>2</td>\n      <td>1</td>\n      <td>1</td>\n    </tr>\n    <tr>\n      <th>7</th>\n      <td>8</td>\n      <td>6704b822c203e2dda9f225dfc4f1bed2ae9044e6</td>\n      <td>336b42483e6a17f48eb040a251b5d6e64d1351a9</td>\n      <td>376</td>\n      <td>PR</td>\n      <td>F</td>\n      <td>29</td>\n      <td>4</td>\n      <td>115046.74</td>\n      <td>4</td>\n      <td>1</td>\n      <td>0</td>\n    </tr>\n    <tr>\n      <th>8</th>\n      <td>9</td>\n      <td>35f41954a87f722a3960e5fa8ce898a09398a564</td>\n      <td>53a417796c777851003b3f2431e8eef5625ec15b</td>\n      <td>501</td>\n      <td>SC</td>\n      <td>M</td>\n      <td>44</td>\n      <td>4</td>\n      <td>142051.07</td>\n      <td>2</td>\n      <td>0</td>\n      <td>1</td>\n    </tr>\n    <tr>\n      <th>9</th>\n      <td>10</td>\n      <td>f110be36fc6171a7da472b9cbac8698df880aac6</td>\n      <td>b89d09fc7719cb3c4a87e4a61cb87b3465e9d8ff</td>\n      <td>684</td>\n      <td>SC</td>\n      <td>M</td>\n      <td>27</td>\n      <td>2</td>\n      <td>134603.88</td>\n      <td>1</td>\n      <td>1</td>\n      <td>1</td>\n    </tr>\n  </tbody>\n</table>\n</div>"
     },
     "metadata": {},
     "execution_count": 16
    }
   ],
   "source": [
    "dados.head(10)"
   ]
  },
  {
   "cell_type": "code",
   "execution_count": 17,
   "metadata": {},
   "outputs": [
    {
     "output_type": "execute_result",
     "data": {
      "text/plain": "id\n001acea53bf2dba35bef7e61ca2ead7792aab9c1    748\n0027a807d327154b6ae73582d7c5bb96fd946744    615\n002ba5177a58900b2ea321f708de21dd59645dd7    496\n0036a94840c16e3a6d05dffe10947880be99f6ef    626\n00446d0dd97d83ffeca39c8902a52d1ddd76d0a7    598\nName: pontuacao_credito, dtype: int64"
     },
     "metadata": {},
     "execution_count": 17
    }
   ],
   "source": [
    "# Média por usuário\n",
    "\n",
    "dados.groupby('id')['pontuacao_credito'].mean().head(5)"
   ]
  },
  {
   "cell_type": "code",
   "execution_count": 18,
   "metadata": {},
   "outputs": [
    {
     "output_type": "execute_result",
     "data": {
      "text/plain": "estado_residencia\nPR    648.961294\nRS    651.105143\nSC    649.537653\nName: pontuacao_credito, dtype: float64"
     },
     "metadata": {},
     "execution_count": 18
    }
   ],
   "source": [
    "# Média por estado\n",
    "\n",
    "dados.groupby('estado_residencia')['pontuacao_credito'].mean()"
   ]
  },
  {
   "cell_type": "code",
   "execution_count": 19,
   "metadata": {},
   "outputs": [
    {
     "output_type": "execute_result",
     "data": {
      "text/plain": "estado_residencia\nPR    650\nRS    650\nSC    653\nName: pontuacao_credito, dtype: int64"
     },
     "metadata": {},
     "execution_count": 19
    }
   ],
   "source": [
    "# Mediana por estado\n",
    "\n",
    "dados.groupby('estado_residencia')['pontuacao_credito'].median()"
   ]
  },
  {
   "cell_type": "code",
   "execution_count": 20,
   "metadata": {},
   "outputs": [
    {
     "output_type": "execute_result",
     "data": {
      "text/plain": "estado_residencia\nPR    98.607186\nRS    95.136598\nSC    97.233493\nName: pontuacao_credito, dtype: float64"
     },
     "metadata": {},
     "execution_count": 20
    }
   ],
   "source": [
    "# Desvio padrão por usuário\n",
    "\n",
    "dados.groupby('estado_residencia')['pontuacao_credito'].std().head(5)"
   ]
  },
  {
   "cell_type": "code",
   "execution_count": 21,
   "metadata": {},
   "outputs": [
    {
     "output_type": "execute_result",
     "data": {
      "text/plain": "estado_residencia\nPR    850\nRS    850\nSC    850\nName: pontuacao_credito, dtype: int64"
     },
     "metadata": {},
     "execution_count": 21
    }
   ],
   "source": [
    "# Desvio padrão por usuário\n",
    "\n",
    "dados.groupby('estado_residencia')['pontuacao_credito'].apply(lambda x: x.mode()[0])"
   ]
  },
  {
   "cell_type": "code",
   "execution_count": 22,
   "metadata": {},
   "outputs": [
    {
     "output_type": "execute_result",
     "data": {
      "text/plain": "                    media  mediana  desvio_padrao  moda\nestado_residencia                                      \nPR                 648.96      650          98.61   850\nRS                 651.11      650          95.14   850\nSC                 649.54      653          97.23   850",
      "text/html": "<div>\n<style scoped>\n    .dataframe tbody tr th:only-of-type {\n        vertical-align: middle;\n    }\n\n    .dataframe tbody tr th {\n        vertical-align: top;\n    }\n\n    .dataframe thead th {\n        text-align: right;\n    }\n</style>\n<table border=\"1\" class=\"dataframe\">\n  <thead>\n    <tr style=\"text-align: right;\">\n      <th></th>\n      <th>media</th>\n      <th>mediana</th>\n      <th>desvio_padrao</th>\n      <th>moda</th>\n    </tr>\n    <tr>\n      <th>estado_residencia</th>\n      <th></th>\n      <th></th>\n      <th></th>\n      <th></th>\n    </tr>\n  </thead>\n  <tbody>\n    <tr>\n      <th>PR</th>\n      <td>648.96</td>\n      <td>650</td>\n      <td>98.61</td>\n      <td>850</td>\n    </tr>\n    <tr>\n      <th>RS</th>\n      <td>651.11</td>\n      <td>650</td>\n      <td>95.14</td>\n      <td>850</td>\n    </tr>\n    <tr>\n      <th>SC</th>\n      <td>649.54</td>\n      <td>653</td>\n      <td>97.23</td>\n      <td>850</td>\n    </tr>\n  </tbody>\n</table>\n</div>"
     },
     "metadata": {},
     "execution_count": 22
    }
   ],
   "source": [
    "# Formatação dos dados\n",
    "\n",
    "# \"moda\": 0.0\n",
    "# \"mediana\": 0.0\n",
    "# \"media\": 0.0\n",
    "# \"desvio_padrao\": 0.0\n",
    "\n",
    "dfformatado = dados.groupby('estado_residencia')['pontuacao_credito'].agg(['mean','median', 'std', lambda x: x.mode()[0]]).round(2).rename(columns={'median': 'mediana', 'mean': 'media', 'std': 'desvio_padrao', '<lambda>': 'moda'})\n",
    "\n",
    "dfformatado"
   ]
  },
  {
   "cell_type": "code",
   "execution_count": 23,
   "metadata": {},
   "outputs": [],
   "source": [
    "# Registrando no aquivo\n",
    "\n",
    "dfformatado.to_json(path_or_buf='submission.json', orient='index')"
   ]
  }
 ],
 "metadata": {
  "language_info": {
   "codemirror_mode": {
    "name": "ipython",
    "version": 3
   },
   "file_extension": ".py",
   "mimetype": "text/x-python",
   "name": "python",
   "nbconvert_exporter": "python",
   "pygments_lexer": "ipython3",
   "version": "3.7.6-final"
  },
  "orig_nbformat": 2,
  "kernelspec": {
   "name": "python37664bit1cf73b64e4ea447c984bb0d630d7c159",
   "display_name": "Python 3.7.6 64-bit"
  }
 },
 "nbformat": 4,
 "nbformat_minor": 2
}